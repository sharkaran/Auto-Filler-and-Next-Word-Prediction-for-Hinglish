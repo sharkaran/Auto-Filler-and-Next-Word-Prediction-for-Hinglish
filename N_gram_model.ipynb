{
  "nbformat": 4,
  "nbformat_minor": 0,
  "metadata": {
    "colab": {
      "provenance": [],
      "collapsed_sections": []
    },
    "kernelspec": {
      "name": "python3",
      "display_name": "Python 3"
    },
    "language_info": {
      "name": "python"
    }
  },
  "cells": [
    {
      "cell_type": "code",
      "source": [
        "# for output text wrap\n",
        "from IPython.display import HTML, display\n",
        "\n",
        "def set_css():\n",
        "  display(HTML('''\n",
        "  <style>\n",
        "    pre {\n",
        "        white-space: pre-wrap;\n",
        "    }\n",
        "  </style>\n",
        "  '''))\n",
        "get_ipython().events.register('pre_run_cell', set_css)"
      ],
      "metadata": {
        "id": "aOjBWHcyEEiS"
      },
      "execution_count": null,
      "outputs": []
    },
    {
      "cell_type": "code",
      "source": [
        "import os\n",
        "big_data = \"\"\n",
        "\n",
        "\n",
        "directory = 'archive'\n",
        "\n",
        "for filename in os.listdir(directory):\n",
        "    f = os.path.join(directory, filename)\n",
        "    if os.path.isfile(f):\n",
        "        with open(f, 'r') as file:\n",
        "            try:\n",
        "                text = file.read()\n",
        "                big_data = big_data + \" \" + text\n",
        "            except:\n",
        "                print(f)\n",
        "with open('big_data.txt', 'w') as fw:\n",
        "    fw.write(big_data)"
      ],
      "metadata": {
        "colab": {
          "base_uri": "https://localhost:8080/",
          "height": 1000
        },
        "id": "KYyGoPSWpmjr",
        "outputId": "01a04e16-302c-4404-ef4a-5cfa86a8c911"
      },
      "execution_count": null,
      "outputs": [
        {
          "output_type": "display_data",
          "data": {
            "text/plain": [
              "<IPython.core.display.HTML object>"
            ],
            "text/html": [
              "\n",
              "  <style>\n",
              "    pre {\n",
              "        white-space: pre-wrap;\n",
              "    }\n",
              "  </style>\n",
              "  "
            ]
          },
          "metadata": {}
        },
        {
          "output_type": "stream",
          "name": "stdout",
          "text": [
            "archive/data_252.txt\n",
            "archive/data_309.txt\n",
            "archive/data_266.txt\n",
            "archive/data_325.txt\n",
            "archive/data_498.txt\n",
            "archive/data_435.txt\n",
            "archive/data_14.txt\n",
            "archive/data_427.txt\n",
            "archive/data_283.txt\n",
            "archive/data_155.txt\n",
            "archive/data_145.txt\n",
            "archive/data_134.txt\n",
            "archive/data_213.txt\n",
            "archive/data_93.txt\n",
            "archive/data_288.txt\n",
            "archive/data_226.txt\n",
            "archive/data_186.txt\n",
            "archive/data_277.txt\n",
            "archive/data_47.txt\n",
            "archive/data_164.txt\n",
            "archive/data_340.txt\n",
            "archive/data_279.txt\n",
            "archive/data_221.txt\n",
            "archive/data_237.txt\n",
            "archive/data_456.txt\n",
            "archive/data_383.txt\n",
            "archive/data_132.txt\n",
            "archive/data_616.txt\n",
            "archive/data_784.txt\n",
            "archive/data_162.txt\n",
            "archive/data_52.txt\n",
            "archive/data_69.txt\n",
            "archive/data_312.txt\n",
            "archive/data_49.txt\n",
            "archive/data_299.txt\n",
            "archive/data_780.txt\n",
            "archive/data_467.txt\n",
            "archive/data_385.txt\n",
            "archive/data_16.txt\n",
            "archive/data_32.txt\n",
            "archive/data_110.txt\n",
            "archive/data_153.txt\n",
            "archive/data_317.txt\n",
            "archive/data_404.txt\n",
            "archive/data_167.txt\n",
            "archive/data_188.txt\n",
            "archive/data_96.txt\n",
            "archive/data_127.txt\n",
            "archive/data_157.txt\n",
            "archive/data_95.txt\n",
            "archive/data_256.txt\n",
            "archive/data_80.txt\n",
            "archive/data_38.txt\n",
            "archive/data_72.txt\n",
            "archive/data_337.txt\n",
            "archive/data_40.txt\n",
            "archive/data_257.txt\n",
            "archive/data_395.txt\n",
            "archive/data_128.txt\n",
            "archive/data_129.txt\n",
            "archive/data_714.txt\n",
            "archive/data_342.txt\n",
            "archive/data_84.txt\n",
            "archive/data_449.txt\n",
            "archive/data_414.txt\n",
            "archive/data_175.txt\n",
            "archive/data_773.txt\n",
            "archive/data_203.txt\n",
            "archive/data_631.txt\n",
            "archive/data_305.txt\n",
            "archive/data_412.txt\n",
            "archive/data_210.txt\n",
            "archive/data_357.txt\n",
            "archive/data_311.txt\n",
            "archive/data_158.txt\n",
            "archive/data_772.txt\n",
            "archive/data_387.txt\n",
            "archive/data_41.txt\n",
            "archive/data_197.txt\n",
            "archive/data_263.txt\n",
            "archive/data_248.txt\n",
            "archive/data_141.txt\n",
            "archive/data_119.txt\n",
            "archive/data_199.txt\n",
            "archive/data_123.txt\n",
            "archive/data_34.txt\n",
            "archive/data_58.txt\n",
            "archive/data_13.txt\n",
            "archive/data_426.txt\n",
            "archive/data_177.txt\n",
            "archive/data_434.txt\n",
            "archive/data_786.txt\n",
            "archive/data_138.txt\n",
            "archive/data_360.txt\n",
            "archive/data_352.txt\n",
            "archive/data_282.txt\n",
            "archive/data_198.txt\n",
            "archive/data_124.txt\n",
            "archive/data_351.txt\n",
            "archive/data_331.txt\n",
            "archive/data_401.txt\n",
            "archive/data_193.txt\n",
            "archive/data_362.txt\n",
            "archive/data_648.txt\n",
            "archive/data_178.txt\n",
            "archive/data_85.txt\n",
            "archive/data_270.txt\n",
            "archive/data_373.txt\n",
            "archive/data_275.txt\n",
            "archive/data_470.txt\n",
            "archive/data_137.txt\n",
            "archive/data_336.txt\n",
            "archive/data_18.txt\n",
            "archive/data_249.txt\n",
            "archive/data_295.txt\n",
            "archive/data_348.txt\n",
            "archive/data_377.txt\n",
            "archive/data_97.txt\n",
            "archive/data_294.txt\n",
            "archive/data_376.txt\n",
            "archive/data_59.txt\n",
            "archive/data_148.txt\n",
            "archive/data_103.txt\n",
            "archive/data_367.txt\n",
            "archive/data_135.txt\n",
            "archive/data_107.txt\n",
            "archive/data_77.txt\n",
            "archive/data_71.txt\n",
            "archive/data_68.txt\n",
            "archive/data_347.txt\n",
            "archive/data_100.txt\n",
            "archive/data_442.txt\n",
            "archive/data_369.txt\n",
            "archive/data_91.txt\n",
            "archive/data_262.txt\n",
            "archive/data_359.txt\n",
            "archive/data_324.txt\n",
            "archive/data_106.txt\n",
            "archive/data_298.txt\n",
            "archive/data_308.txt\n",
            "archive/data_24.txt\n",
            "archive/data_338.txt\n",
            "archive/data_209.txt\n",
            "archive/data_159.txt\n",
            "archive/data_788.txt\n",
            "archive/data_196.txt\n",
            "archive/data_87.txt\n",
            "archive/data_447.txt\n",
            "archive/data_330.txt\n",
            "archive/data_334.txt\n",
            "archive/data_307.txt\n",
            "archive/data_273.txt\n",
            "archive/data_211.txt\n",
            "archive/data_240.txt\n",
            "archive/data_182.txt\n",
            "archive/data_90.txt\n",
            "archive/data_469.txt\n",
            "archive/data_260.txt\n",
            "archive/data_322.txt\n",
            "archive/data_154.txt\n",
            "archive/data_394.txt\n",
            "archive/data_146.txt\n",
            "archive/data_614.txt\n",
            "archive/data_267.txt\n",
            "archive/data_293.txt\n",
            "archive/data_173.txt\n",
            "archive/data_109.txt\n",
            "archive/data_431.txt\n",
            "archive/data_235.txt\n",
            "archive/data_316.txt\n",
            "archive/data_61.txt\n",
            "archive/data_329.txt\n",
            "archive/data_185.txt\n",
            "archive/data_79.txt\n",
            "archive/data_418.txt\n",
            "archive/data_44.txt\n",
            "archive/data_194.txt\n",
            "archive/data_318.txt\n",
            "archive/data_301.txt\n",
            "archive/data_409.txt\n",
            "archive/data_76.txt\n",
            "archive/data_21.txt\n",
            "archive/data_171.txt\n",
            "archive/data_136.txt\n",
            "archive/data_432.txt\n",
            "archive/data_323.txt\n",
            "archive/data_258.txt\n",
            "archive/data_9.txt\n",
            "archive/data_332.txt\n",
            "archive/data_208.txt\n",
            "archive/data_296.txt\n",
            "archive/data_271.txt\n",
            "archive/data_57.txt\n",
            "archive/data_358.txt\n",
            "archive/data_302.txt\n",
            "archive/data_328.txt\n",
            "archive/data_36.txt\n",
            "archive/data_353.txt\n",
            "archive/data_355.txt\n",
            "archive/data_487.txt\n",
            "archive/data_783.txt\n",
            "archive/data_191.txt\n",
            "archive/data_165.txt\n",
            "archive/data_413.txt\n",
            "archive/data_333.txt\n",
            "archive/data_243.txt\n",
            "archive/data_399.txt\n",
            "archive/data_439.txt\n",
            "archive/data_218.txt\n",
            "archive/data_458.txt\n",
            "archive/data_445.txt\n",
            "archive/data_156.txt\n",
            "archive/data_448.txt\n",
            "archive/data_181.txt\n",
            "archive/data_375.txt\n",
            "archive/data_232.txt\n",
            "archive/data_94.txt\n",
            "archive/data_54.txt\n",
            "archive/data_372.txt\n",
            "archive/data_272.txt\n",
            "archive/data_400.txt\n",
            "archive/data_306.txt\n",
            "archive/data_366.txt\n",
            "archive/data_274.txt\n",
            "archive/data_73.txt\n",
            "archive/data_6.txt\n",
            "archive/data_227.txt\n",
            "archive/data_326.txt\n",
            "archive/data_99.txt\n",
            "archive/data_659.txt\n",
            "archive/data_250.txt\n",
            "archive/data_255.txt\n",
            "archive/data_166.txt\n",
            "archive/data_160.txt\n",
            "archive/data_244.txt\n",
            "archive/data_660.txt\n",
            "archive/data_7.txt\n",
            "archive/data_236.txt\n",
            "archive/data_462.txt\n",
            "archive/data_425.txt\n",
            "archive/data_693.txt\n",
            "archive/data_285.txt\n",
            "archive/data_759.txt\n",
            "archive/data_102.txt\n",
            "archive/data_82.txt\n",
            "archive/data_131.txt\n",
            "archive/data_423.txt\n",
            "archive/data_108.txt\n",
            "archive/data_217.txt\n",
            "archive/data_779.txt\n",
            "archive/data_187.txt\n",
            "archive/data_461.txt\n",
            "archive/data_133.txt\n",
            "archive/data_140.txt\n",
            "archive/data_637.txt\n",
            "archive/data_430.txt\n",
            "archive/data_457.txt\n",
            "archive/data_300.txt\n",
            "archive/data_553.txt\n",
            "archive/data_350.txt\n",
            "archive/data_195.txt\n",
            "archive/data_774.txt\n",
            "archive/data_184.txt\n",
            "archive/data_149.txt\n",
            "archive/data_117.txt\n",
            "archive/data_229.txt\n",
            "archive/data_200.txt\n",
            "archive/data_104.txt\n",
            "archive/data_768.txt\n",
            "archive/data_144.txt\n",
            "archive/data_341.txt\n",
            "archive/data_1.txt\n",
            "archive/data_139.txt\n",
            "archive/data_381.txt\n",
            "archive/data_147.txt\n",
            "archive/data_463.txt\n",
            "archive/data_115.txt\n",
            "archive/data_509.txt\n",
            "archive/data_122.txt\n",
            "archive/data_261.txt\n",
            "archive/data_105.txt\n",
            "archive/data_98.txt\n",
            "archive/data_417.txt\n",
            "archive/data_460.txt\n",
            "archive/data_242.txt\n",
            "archive/data_207.txt\n",
            "archive/data_224.txt\n",
            "archive/data_315.txt\n",
            "archive/data_364.txt\n",
            "archive/data_169.txt\n",
            "archive/data_259.txt\n",
            "archive/data_264.txt\n",
            "archive/data_125.txt\n",
            "archive/data_101.txt\n",
            "archive/data_46.txt\n",
            "archive/data_192.txt\n",
            "archive/data_189.txt\n",
            "archive/data_246.txt\n",
            "archive/data_278.txt\n",
            "archive/data_379.txt\n",
            "archive/data_31.txt\n",
            "archive/data_281.txt\n",
            "archive/data_391.txt\n",
            "archive/data_410.txt\n",
            "archive/data_202.txt\n",
            "archive/data_424.txt\n",
            "archive/data_3.txt\n",
            "archive/data_287.txt\n",
            "archive/data_758.txt\n",
            "archive/data_378.txt\n",
            "archive/data_402.txt\n",
            "archive/data_335.txt\n",
            "archive/data_344.txt\n",
            "archive/data_303.txt\n",
            "archive/data_161.txt\n",
            "archive/data_88.txt\n",
            "archive/data_319.txt\n",
            "archive/data_64.txt\n",
            "archive/data_245.txt\n",
            "archive/data_121.txt\n",
            "archive/data_552.txt\n",
            "archive/data_142.txt\n",
            "archive/data_152.txt\n",
            "archive/data_233.txt\n",
            "archive/data_204.txt\n",
            "archive/data_268.txt\n",
            "archive/data_190.txt\n",
            "archive/data_63.txt\n",
            "archive/data_343.txt\n",
            "archive/data_23.txt\n",
            "archive/data_775.txt\n",
            "archive/data_225.txt\n",
            "archive/data_231.txt\n",
            "archive/data_11.txt\n",
            "archive/data_415.txt\n",
            "archive/data_111.txt\n",
            "archive/data_286.txt\n",
            "archive/data_541.txt\n",
            "archive/data_292.txt\n",
            "archive/data_327.txt\n",
            "archive/data_238.txt\n",
            "archive/data_212.txt\n",
            "archive/data_86.txt\n",
            "archive/data_253.txt\n",
            "archive/data_290.txt\n",
            "archive/data_50.txt\n",
            "archive/data_118.txt\n",
            "archive/data_574.txt\n",
            "archive/data_477.txt\n",
            "archive/data_531.txt\n",
            "archive/data_339.txt\n",
            "archive/data_265.txt\n",
            "archive/data_421.txt\n",
            "archive/data_239.txt\n",
            "archive/data_183.txt\n",
            "archive/data_74.txt\n",
            "archive/data_5.txt\n",
            "archive/data_150.txt\n",
            "archive/data_403.txt\n",
            "archive/data_613.txt\n",
            "archive/data_130.txt\n",
            "archive/data_289.txt\n",
            "archive/data_398.txt\n",
            "archive/data_280.txt\n",
            "archive/data_206.txt\n",
            "archive/data_151.txt\n",
            "archive/data_230.txt\n",
            "archive/data_126.txt\n",
            "archive/data_354.txt\n",
            "archive/data_180.txt\n",
            "archive/data_241.txt\n",
            "archive/data_215.txt\n",
            "archive/data_407.txt\n",
            "archive/data_205.txt\n",
            "archive/data_291.txt\n",
            "archive/data_120.txt\n",
            "archive/data_389.txt\n",
            "archive/data_92.txt\n",
            "archive/data_116.txt\n",
            "archive/data_28.txt\n",
            "archive/data_371.txt\n",
            "archive/data_436.txt\n",
            "archive/data_416.txt\n",
            "archive/data_143.txt\n",
            "archive/data_466.txt\n",
            "archive/data_345.txt\n",
            "archive/data_26.txt\n",
            "archive/data_254.txt\n",
            "archive/data_176.txt\n",
            "archive/data_269.txt\n"
          ]
        }
      ]
    },
    {
      "cell_type": "code",
      "execution_count": null,
      "metadata": {
        "colab": {
          "base_uri": "https://localhost:8080/",
          "height": 17
        },
        "id": "ySmj5ro3xM3T",
        "outputId": "ef355758-0ffb-496a-a04d-430a29be6bcd"
      },
      "outputs": [
        {
          "output_type": "display_data",
          "data": {
            "text/plain": [
              "<IPython.core.display.HTML object>"
            ],
            "text/html": [
              "\n",
              "  <style>\n",
              "    pre {\n",
              "        white-space: pre-wrap;\n",
              "    }\n",
              "  </style>\n",
              "  "
            ]
          },
          "metadata": {}
        }
      ],
      "source": [
        "# file_path = \"The_dataset.txt\"\n",
        "file_path = \"big_data.txt\"\n",
        "with open(file_path, 'r') as file:\n",
        "  text = file.read()\n",
        "text = text.lower()\n",
        "# print(text)"
      ]
    },
    {
      "cell_type": "code",
      "source": [
        "import nltk\n",
        "nltk.download('punkt')\n",
        "from collections import defaultdict"
      ],
      "metadata": {
        "colab": {
          "base_uri": "https://localhost:8080/",
          "height": 52
        },
        "id": "XukzWvQayyKs",
        "outputId": "a3150a81-b3eb-4fab-d19d-a6e682c088e9"
      },
      "execution_count": null,
      "outputs": [
        {
          "output_type": "display_data",
          "data": {
            "text/plain": [
              "<IPython.core.display.HTML object>"
            ],
            "text/html": [
              "\n",
              "  <style>\n",
              "    pre {\n",
              "        white-space: pre-wrap;\n",
              "    }\n",
              "  </style>\n",
              "  "
            ]
          },
          "metadata": {}
        },
        {
          "output_type": "stream",
          "name": "stderr",
          "text": [
            "[nltk_data] Downloading package punkt to /root/nltk_data...\n",
            "[nltk_data]   Package punkt is already up-to-date!\n"
          ]
        }
      ]
    },
    {
      "cell_type": "code",
      "source": [
        "sentences = nltk.sent_tokenize(text)\n",
        "# print(sentences)"
      ],
      "metadata": {
        "colab": {
          "base_uri": "https://localhost:8080/",
          "height": 17
        },
        "id": "G67H58hhzjgj",
        "outputId": "a0c3324f-9daa-4253-f9ec-9d4c04b3ad81"
      },
      "execution_count": null,
      "outputs": [
        {
          "output_type": "display_data",
          "data": {
            "text/plain": [
              "<IPython.core.display.HTML object>"
            ],
            "text/html": [
              "\n",
              "  <style>\n",
              "    pre {\n",
              "        white-space: pre-wrap;\n",
              "    }\n",
              "  </style>\n",
              "  "
            ]
          },
          "metadata": {}
        }
      ]
    },
    {
      "cell_type": "code",
      "source": [
        "tokenizer = nltk.RegexpTokenizer(r'\\w+')\n",
        "# for sentence in sentences:\n",
        "#   trigram = nltk.trigrams(tokenizer.tokenize(sentence))\n",
        "#   print(list(trigram))"
      ],
      "metadata": {
        "id": "_-OUJb7g0FYz"
      },
      "execution_count": null,
      "outputs": []
    },
    {
      "cell_type": "code",
      "source": [
        "vocab = defaultdict(int)\n",
        "def getVocab():\n",
        "  words = tokenizer.tokenize(text)\n",
        "  for word in words:\n",
        "    if word in vocab:\n",
        "      vocab[word] += 1\n",
        "    else:\n",
        "      vocab[word] = 1\n",
        "getVocab()\n",
        "# print(vocab)"
      ],
      "metadata": {
        "colab": {
          "base_uri": "https://localhost:8080/",
          "height": 17
        },
        "id": "AwoeON762sW8",
        "outputId": "4fd47524-19f0-4554-9dca-49dfa9f600c6"
      },
      "execution_count": null,
      "outputs": [
        {
          "output_type": "display_data",
          "data": {
            "text/plain": [
              "<IPython.core.display.HTML object>"
            ],
            "text/html": [
              "\n",
              "  <style>\n",
              "    pre {\n",
              "        white-space: pre-wrap;\n",
              "    }\n",
              "  </style>\n",
              "  "
            ]
          },
          "metadata": {}
        }
      ]
    },
    {
      "cell_type": "code",
      "source": [
        "bigram_counts = defaultdict(int)\n",
        "def getBigramCounts():\n",
        "  for sentence in sentences:\n",
        "    bigrams = nltk.ngrams(tokenizer.tokenize(sentence), 2)\n",
        "    for bigram in bigrams:\n",
        "      if bigram in bigram_counts:\n",
        "        bigram_counts[bigram] += 1\n",
        "      else:\n",
        "        bigram_counts[bigram] = 1\n",
        "getBigramCounts()\n",
        "# print(bigram_counts)"
      ],
      "metadata": {
        "id": "R1lAp6mW22_s",
        "colab": {
          "base_uri": "https://localhost:8080/",
          "height": 17
        },
        "outputId": "d982db4f-debd-4ba5-bd45-51fca09d2462"
      },
      "execution_count": null,
      "outputs": [
        {
          "output_type": "display_data",
          "data": {
            "text/plain": [
              "<IPython.core.display.HTML object>"
            ],
            "text/html": [
              "\n",
              "  <style>\n",
              "    pre {\n",
              "        white-space: pre-wrap;\n",
              "    }\n",
              "  </style>\n",
              "  "
            ]
          },
          "metadata": {}
        }
      ]
    },
    {
      "cell_type": "code",
      "source": [
        "trigram_counts = defaultdict(int)\n",
        "def getTrigramCounts():\n",
        "  for sentence in sentences:\n",
        "    trigrams = nltk.ngrams(tokenizer.tokenize(sentence), 3)\n",
        "    for trigram in trigrams:\n",
        "      if trigram in trigram_counts:\n",
        "        trigram_counts[trigram] += 1\n",
        "      else:\n",
        "        trigram_counts[trigram] = 1\n",
        "getTrigramCounts()\n",
        "# print(trigram_counts)"
      ],
      "metadata": {
        "colab": {
          "base_uri": "https://localhost:8080/",
          "height": 17
        },
        "id": "iVPgngeh5kJW",
        "outputId": "2db552cc-71d2-46b1-c8d2-802189645ecf"
      },
      "execution_count": null,
      "outputs": [
        {
          "output_type": "display_data",
          "data": {
            "text/plain": [
              "<IPython.core.display.HTML object>"
            ],
            "text/html": [
              "\n",
              "  <style>\n",
              "    pre {\n",
              "        white-space: pre-wrap;\n",
              "    }\n",
              "  </style>\n",
              "  "
            ]
          },
          "metadata": {}
        }
      ]
    },
    {
      "cell_type": "code",
      "source": [
        "quadgram_counts = defaultdict(int)\n",
        "def getQuadgramCounts():\n",
        "  for sentence in sentences:\n",
        "    quadgrams = nltk.ngrams(tokenizer.tokenize(sentence), 4)\n",
        "    for quadgram in quadgrams:\n",
        "      if quadgram in quadgram_counts:\n",
        "        quadgram_counts[quadgram] += 1\n",
        "      else:\n",
        "        quadgram_counts[quadgram] = 1\n",
        "getQuadgramCounts()\n",
        "# print(quadgram_counts)"
      ],
      "metadata": {
        "colab": {
          "base_uri": "https://localhost:8080/",
          "height": 17
        },
        "id": "vPpngZzs6TK4",
        "outputId": "209fac08-befe-4401-a250-e7a458043120"
      },
      "execution_count": null,
      "outputs": [
        {
          "output_type": "display_data",
          "data": {
            "text/plain": [
              "<IPython.core.display.HTML object>"
            ],
            "text/html": [
              "\n",
              "  <style>\n",
              "    pre {\n",
              "        white-space: pre-wrap;\n",
              "    }\n",
              "  </style>\n",
              "  "
            ]
          },
          "metadata": {}
        }
      ]
    },
    {
      "cell_type": "code",
      "source": [
        "bigram_prob = defaultdict(int)\n",
        "def findBigramProb():\n",
        "  V = len(vocab)\n",
        "  for bigram in bigram_counts:\n",
        "    unigram = bigram[0]\n",
        "\n",
        "    prob = (bigram_counts[bigram] + 1)/(vocab[unigram] + V)\n",
        "    if unigram not in bigram_prob:\n",
        "      bigram_prob[unigram] = []\n",
        "    bigram_prob[unigram].append([prob, bigram[-1]])\n",
        "findBigramProb()\n",
        "# print(bigram_prob)"
      ],
      "metadata": {
        "colab": {
          "base_uri": "https://localhost:8080/",
          "height": 17
        },
        "id": "uQbWIk9Q6oF7",
        "outputId": "cb7f1c31-4810-4dde-c56d-5e93bda78c4b"
      },
      "execution_count": null,
      "outputs": [
        {
          "output_type": "display_data",
          "data": {
            "text/plain": [
              "<IPython.core.display.HTML object>"
            ],
            "text/html": [
              "\n",
              "  <style>\n",
              "    pre {\n",
              "        white-space: pre-wrap;\n",
              "    }\n",
              "  </style>\n",
              "  "
            ]
          },
          "metadata": {}
        }
      ]
    },
    {
      "cell_type": "code",
      "source": [
        "trigram_prob = defaultdict(int)\n",
        "def findTrigramProb():\n",
        "  V = len(vocab)\n",
        "  for trigram in trigram_counts:\n",
        "    bigram = trigram[:2]\n",
        "\n",
        "    prob = (trigram_counts[trigram] + 1)/(bigram_counts[bigram] + V)\n",
        "    if bigram not in trigram_prob:\n",
        "      trigram_prob[bigram] = []\n",
        "    trigram_prob[bigram].append([prob, trigram[-1]])\n",
        "findTrigramProb()\n",
        "# print(trigram_prob)"
      ],
      "metadata": {
        "id": "g8xVVgeo86U4",
        "colab": {
          "base_uri": "https://localhost:8080/",
          "height": 17
        },
        "outputId": "619ccabe-5529-451a-b9ca-42e1e19ad4b8"
      },
      "execution_count": null,
      "outputs": [
        {
          "output_type": "display_data",
          "data": {
            "text/plain": [
              "<IPython.core.display.HTML object>"
            ],
            "text/html": [
              "\n",
              "  <style>\n",
              "    pre {\n",
              "        white-space: pre-wrap;\n",
              "    }\n",
              "  </style>\n",
              "  "
            ]
          },
          "metadata": {}
        }
      ]
    },
    {
      "cell_type": "code",
      "source": [
        "quadgram_prob = defaultdict(int)\n",
        "def findQuadgramProb():\n",
        "  V = len(vocab)\n",
        "  for quadgram in quadgram_counts:\n",
        "    trigram = quadgram[:3]\n",
        "\n",
        "    prob = (quadgram_counts[quadgram] + 1)/(trigram_counts[trigram] + V)\n",
        "    if trigram not in quadgram_prob:\n",
        "      quadgram_prob[trigram] = []\n",
        "    quadgram_prob[trigram].append([prob, quadgram[-1]])\n",
        "findQuadgramProb()\n",
        "# print(quadgram_prob)"
      ],
      "metadata": {
        "colab": {
          "base_uri": "https://localhost:8080/",
          "height": 17
        },
        "id": "7wdnRuQc_5Xh",
        "outputId": "5e9c0b4a-e003-449a-a4e2-cb4c5d93c3f6"
      },
      "execution_count": null,
      "outputs": [
        {
          "output_type": "display_data",
          "data": {
            "text/plain": [
              "<IPython.core.display.HTML object>"
            ],
            "text/html": [
              "\n",
              "  <style>\n",
              "    pre {\n",
              "        white-space: pre-wrap;\n",
              "    }\n",
              "  </style>\n",
              "  "
            ]
          },
          "metadata": {}
        }
      ]
    },
    {
      "cell_type": "code",
      "source": [
        "def sortProbDicts():\n",
        "  for key in bigram_prob:\n",
        "    if len(bigram_prob[key]) > 1:\n",
        "      bigram_prob[key] = sorted(bigram_prob[key], reverse=True)\n",
        "  \n",
        "  for key in trigram_prob:\n",
        "    if len(trigram_prob[key]) > 1:\n",
        "      trigram_prob[key] = sorted(trigram_prob[key], reverse=True)\n",
        "  \n",
        "  for key in quadgram_prob:\n",
        "    if len(quadgram_prob[key]) > 1:\n",
        "      quadgram_prob[key] = sorted(quadgram_prob[key], reverse=True)\n",
        "\n",
        "sortProbDicts()"
      ],
      "metadata": {
        "colab": {
          "base_uri": "https://localhost:8080/",
          "height": 17
        },
        "id": "6xPQPtTnLqWB",
        "outputId": "2ea69c27-f715-47a1-81bf-0a1003b76e1a"
      },
      "execution_count": null,
      "outputs": [
        {
          "output_type": "display_data",
          "data": {
            "text/plain": [
              "<IPython.core.display.HTML object>"
            ],
            "text/html": [
              "\n",
              "  <style>\n",
              "    pre {\n",
              "        white-space: pre-wrap;\n",
              "    }\n",
              "  </style>\n",
              "  "
            ]
          },
          "metadata": {}
        }
      ]
    },
    {
      "cell_type": "code",
      "source": [
        "def getWordChoices(sentence):\n",
        "  choices = []\n",
        "  tokens = tokenizer.tokenize(sentence.lower())\n",
        "  if tokens[-1] in bigram_prob:\n",
        "    # print(tokens[-1], bigram_prob[tokens[-1]])\n",
        "    choices += bigram_prob[tokens[-1]]\n",
        "\n",
        "  # print(tokens[-2:])\n",
        "  if tuple(tokens[-2:]) in trigram_prob:\n",
        "    # print(tuple(tokens[-2:]), trigram_prob[tuple(tokens[-2:])])\n",
        "    choices += trigram_prob[tuple(tokens[-2:])]\n",
        "\n",
        "  if tuple(tokens[-3:]) in quadgram_prob:\n",
        "    # print(tuple(tokens[-3:]), quadgram_prob[tuple(tokens[-3:])])\n",
        "    choices += quadgram_prob[tuple(tokens[-3:])]\n",
        "\n",
        "  return choices\n",
        "\n",
        "# getWordChoices('But ek institution me 3 account hi open kar sakte hai')"
      ],
      "metadata": {
        "id": "QEdFYYvwApMS",
        "colab": {
          "base_uri": "https://localhost:8080/",
          "height": 17
        },
        "outputId": "81c528c9-abfe-492c-97fe-0a145c0d54c7"
      },
      "execution_count": null,
      "outputs": [
        {
          "output_type": "display_data",
          "data": {
            "text/plain": [
              "<IPython.core.display.HTML object>"
            ],
            "text/html": [
              "\n",
              "  <style>\n",
              "    pre {\n",
              "        white-space: pre-wrap;\n",
              "    }\n",
              "  </style>\n",
              "  "
            ]
          },
          "metadata": {}
        }
      ]
    },
    {
      "cell_type": "code",
      "source": [
        "vocab_len = sum(vocab.values())\n",
        "vocab_len"
      ],
      "metadata": {
        "colab": {
          "base_uri": "https://localhost:8080/",
          "height": 34
        },
        "id": "3hNamYYDKUfu",
        "outputId": "9cfa2582-98a6-4363-bce4-6876fed1f36e"
      },
      "execution_count": null,
      "outputs": [
        {
          "output_type": "display_data",
          "data": {
            "text/plain": [
              "<IPython.core.display.HTML object>"
            ],
            "text/html": [
              "\n",
              "  <style>\n",
              "    pre {\n",
              "        white-space: pre-wrap;\n",
              "    }\n",
              "  </style>\n",
              "  "
            ]
          },
          "metadata": {}
        },
        {
          "output_type": "execute_result",
          "data": {
            "text/plain": [
              "606354"
            ]
          },
          "metadata": {},
          "execution_count": 213
        }
      ]
    },
    {
      "cell_type": "code",
      "source": [
        "from difflib import SequenceMatcher, get_close_matches"
      ],
      "metadata": {
        "colab": {
          "base_uri": "https://localhost:8080/",
          "height": 17
        },
        "id": "2A53GjGjQ4Fa",
        "outputId": "07f965d4-b46f-47c6-f874-562a932e3233"
      },
      "execution_count": null,
      "outputs": [
        {
          "output_type": "display_data",
          "data": {
            "text/plain": [
              "<IPython.core.display.HTML object>"
            ],
            "text/html": [
              "\n",
              "  <style>\n",
              "    pre {\n",
              "        white-space: pre-wrap;\n",
              "    }\n",
              "  </style>\n",
              "  "
            ]
          },
          "metadata": {}
        }
      ]
    },
    {
      "cell_type": "code",
      "source": [
        "def doPredictions(sentence):\n",
        "  end_word = None\n",
        "  incomplete = False\n",
        "  if sentence[-1] != \" \":\n",
        "    end_word = sentence.split()[-1]\n",
        "    incomplete = True\n",
        "    sentence = \" \".join(sentence.split()[:-1])\n",
        "\n",
        "  choices = {word[1] for word in getWordChoices(sentence)}\n",
        "  predictions = []\n",
        "\n",
        "  V = len(vocab)\n",
        "  num_words = sum(vocab.values())\n",
        "\n",
        "  if incomplete:\n",
        "    choices = set(choices.union(vocab.keys()))\n",
        "    choices = get_close_matches(end_word, choices, n=30)\n",
        "\n",
        "  for word in choices:\n",
        "    key = sentence + word\n",
        "    quad_token = tuple(key[-4:])\n",
        "\n",
        "    prob = (\n",
        "        (quadgram_counts[quad_token] + 1)/ (trigram_counts[quad_token[-3:]] + V) + \n",
        "        (trigram_counts[quad_token[-3:]] + 1)/ (bigram_counts[quad_token[-2]] + V) +\n",
        "        (bigram_counts[quad_token[-2:]] + 1)/ (vocab[word] + V) + \n",
        "        (vocab[word] + 1)/ (num_words + V)\n",
        "    )\n",
        "\n",
        "    if incomplete:\n",
        "      similarity = SequenceMatcher(None, end_word, word).ratio()\n",
        "      predictions.append([similarity, prob, word])\n",
        "    else:\n",
        "      predictions.append([prob, word])\n",
        "\n",
        "  predictions = sorted(predictions, reverse=True)\n",
        "  # print(predictions)\n",
        "  best_preds = [pred[-1] for pred in predictions[:4]]\n",
        "  return best_preds\n",
        "\n",
        "sentence = 'But ek institution me 3 account hi open kar sakte hai'\n",
        "print(doPredictions('But ek institution me 3 acc'))\n",
        "print(doPredictions('But ek institution me 3 acco'))\n",
        "print(doPredictions('But ek institution me 3 accou'))\n",
        "print(doPredictions('But ek institution me 3 account'))\n",
        "print(doPredictions('But ek institution me 3 account '))"
      ],
      "metadata": {
        "colab": {
          "base_uri": "https://localhost:8080/",
          "height": 104
        },
        "id": "jrSA18riOD-E",
        "outputId": "b9915573-8117-4d05-b953-bd9b4b130302"
      },
      "execution_count": null,
      "outputs": [
        {
          "output_type": "display_data",
          "data": {
            "text/plain": [
              "<IPython.core.display.HTML object>"
            ],
            "text/html": [
              "\n",
              "  <style>\n",
              "    pre {\n",
              "        white-space: pre-wrap;\n",
              "    }\n",
              "  </style>\n",
              "  "
            ]
          },
          "metadata": {}
        },
        {
          "output_type": "stream",
          "name": "stdout",
          "text": [
            "['ac', 'accha', 'acchi', 'achcha']\n",
            "['baccho', 'accout', 'account', 'bachcho']\n",
            "['accout', 'account', 'accounts', 'baccho']\n",
            "['account', 'accounts', 'accout', 'amount']\n",
            "['hai', 'ke', 'aur', 'se']\n"
          ]
        }
      ]
    },
    {
      "cell_type": "code",
      "source": [
        "def jaccard(a, b):\n",
        "  set_a = set(a)\n",
        "  set_b = set(b)\n",
        "  # print(a & b)\n",
        "  # print(a | b)\n",
        "  return len(set_a & set_b)/len(set_a | set_b), SequenceMatcher(None, a, b).ratio()\n",
        "jaccard('login', 'nigol')"
      ],
      "metadata": {
        "colab": {
          "base_uri": "https://localhost:8080/",
          "height": 34
        },
        "id": "-R_ltqVObB7g",
        "outputId": "a7ffc95e-fb16-4c91-ff22-c4d6840c1a6e"
      },
      "execution_count": null,
      "outputs": [
        {
          "output_type": "display_data",
          "data": {
            "text/plain": [
              "<IPython.core.display.HTML object>"
            ],
            "text/html": [
              "\n",
              "  <style>\n",
              "    pre {\n",
              "        white-space: pre-wrap;\n",
              "    }\n",
              "  </style>\n",
              "  "
            ]
          },
          "metadata": {}
        },
        {
          "output_type": "execute_result",
          "data": {
            "text/plain": [
              "(1.0, 0.2)"
            ]
          },
          "metadata": {},
          "execution_count": 147
        }
      ]
    },
    {
      "cell_type": "code",
      "source": [
        "def cosineSimilarity(a, b):\n",
        "  a = set(a)\n",
        "  b = set(b)\n",
        "  l1 = []\n",
        "  l2 = []\n",
        "  rvector = a.union(b)\n",
        "  for w in rvector:\n",
        "    if w in a: l1.append(1) # create a vector\n",
        "    else: l1.append(0)\n",
        "    if w in b: l2.append(1)\n",
        "    else: l2.append(0)\n",
        "  c = 0\n",
        "\n",
        "  # cosine formula\n",
        "  for i in range(len(rvector)):\n",
        "      c+= l1[i]*l2[i]\n",
        "  cosine = c / float((sum(l1)*sum(l2))**0.5)\n",
        "  return cosine\n",
        "cosineSimilarity('login', 'nigol')"
      ],
      "metadata": {
        "colab": {
          "base_uri": "https://localhost:8080/",
          "height": 34
        },
        "id": "_5ULKZkAcQeS",
        "outputId": "673d84f9-f7c6-4172-c6dc-8a0bef834865"
      },
      "execution_count": null,
      "outputs": [
        {
          "output_type": "display_data",
          "data": {
            "text/plain": [
              "<IPython.core.display.HTML object>"
            ],
            "text/html": [
              "\n",
              "  <style>\n",
              "    pre {\n",
              "        white-space: pre-wrap;\n",
              "    }\n",
              "  </style>\n",
              "  "
            ]
          },
          "metadata": {}
        },
        {
          "output_type": "execute_result",
          "data": {
            "text/plain": [
              "1.0"
            ]
          },
          "metadata": {},
          "execution_count": 149
        }
      ]
    },
    {
      "cell_type": "code",
      "source": [
        "!pip install textdistance\n",
        "import textdistance"
      ],
      "metadata": {
        "colab": {
          "base_uri": "https://localhost:8080/",
          "height": 104
        },
        "id": "5MJUdvpZd_lG",
        "outputId": "22547a3d-2d19-4e80-c741-be56671d8656"
      },
      "execution_count": null,
      "outputs": [
        {
          "output_type": "display_data",
          "data": {
            "text/plain": [
              "<IPython.core.display.HTML object>"
            ],
            "text/html": [
              "\n",
              "  <style>\n",
              "    pre {\n",
              "        white-space: pre-wrap;\n",
              "    }\n",
              "  </style>\n",
              "  "
            ]
          },
          "metadata": {}
        },
        {
          "output_type": "stream",
          "name": "stdout",
          "text": [
            "Looking in indexes: https://pypi.org/simple, https://us-python.pkg.dev/colab-wheels/public/simple/\n",
            "Collecting textdistance\n",
            "  Downloading textdistance-4.5.0-py3-none-any.whl (31 kB)\n",
            "Installing collected packages: textdistance\n",
            "Successfully installed textdistance-4.5.0\n"
          ]
        }
      ]
    },
    {
      "cell_type": "code",
      "source": [
        "textdistance.ratcliff_obershelp('acco', 'baccho')"
      ],
      "metadata": {
        "colab": {
          "base_uri": "https://localhost:8080/",
          "height": 34
        },
        "id": "CJrTTha4z9sm",
        "outputId": "4632a281-3d09-42fd-9df0-d2e036555483"
      },
      "execution_count": null,
      "outputs": [
        {
          "output_type": "display_data",
          "data": {
            "text/plain": [
              "<IPython.core.display.HTML object>"
            ],
            "text/html": [
              "\n",
              "  <style>\n",
              "    pre {\n",
              "        white-space: pre-wrap;\n",
              "    }\n",
              "  </style>\n",
              "  "
            ]
          },
          "metadata": {}
        },
        {
          "output_type": "execute_result",
          "data": {
            "text/plain": [
              "0.8"
            ]
          },
          "metadata": {},
          "execution_count": 263
        }
      ]
    },
    {
      "cell_type": "code",
      "source": [
        "textdistance.ratcliff_obershelp('acco', 'account')"
      ],
      "metadata": {
        "colab": {
          "base_uri": "https://localhost:8080/",
          "height": 34
        },
        "id": "9F7I0N170Lbc",
        "outputId": "30521413-db58-493c-eb2e-0f8c39430332"
      },
      "execution_count": null,
      "outputs": [
        {
          "output_type": "display_data",
          "data": {
            "text/plain": [
              "<IPython.core.display.HTML object>"
            ],
            "text/html": [
              "\n",
              "  <style>\n",
              "    pre {\n",
              "        white-space: pre-wrap;\n",
              "    }\n",
              "  </style>\n",
              "  "
            ]
          },
          "metadata": {}
        },
        {
          "output_type": "execute_result",
          "data": {
            "text/plain": [
              "0.7272727272727273"
            ]
          },
          "metadata": {},
          "execution_count": 264
        }
      ]
    },
    {
      "cell_type": "code",
      "source": [
        "!pip install jaro-winkler"
      ],
      "metadata": {
        "colab": {
          "base_uri": "https://localhost:8080/",
          "height": 104
        },
        "id": "Dp2fV3hS0ObB",
        "outputId": "5d742abc-7c65-4cd5-ceef-355106aed224"
      },
      "execution_count": null,
      "outputs": [
        {
          "output_type": "display_data",
          "data": {
            "text/plain": [
              "<IPython.core.display.HTML object>"
            ],
            "text/html": [
              "\n",
              "  <style>\n",
              "    pre {\n",
              "        white-space: pre-wrap;\n",
              "    }\n",
              "  </style>\n",
              "  "
            ]
          },
          "metadata": {}
        },
        {
          "output_type": "stream",
          "name": "stdout",
          "text": [
            "Looking in indexes: https://pypi.org/simple, https://us-python.pkg.dev/colab-wheels/public/simple/\n",
            "Collecting jaro-winkler\n",
            "  Downloading jaro_winkler-2.0.3-py3-none-any.whl (33 kB)\n",
            "Installing collected packages: jaro-winkler\n",
            "Successfully installed jaro-winkler-2.0.3\n"
          ]
        }
      ]
    },
    {
      "cell_type": "code",
      "source": [
        "import jaro\n",
        "jaro.jaro_winkler_metric('acco', 'baccho')"
      ],
      "metadata": {
        "colab": {
          "base_uri": "https://localhost:8080/",
          "height": 34
        },
        "id": "4VlMY6aQ0wzV",
        "outputId": "13a2bb19-8116-4662-9c93-ce1a70952672"
      },
      "execution_count": null,
      "outputs": [
        {
          "output_type": "display_data",
          "data": {
            "text/plain": [
              "<IPython.core.display.HTML object>"
            ],
            "text/html": [
              "\n",
              "  <style>\n",
              "    pre {\n",
              "        white-space: pre-wrap;\n",
              "    }\n",
              "  </style>\n",
              "  "
            ]
          },
          "metadata": {}
        },
        {
          "output_type": "execute_result",
          "data": {
            "text/plain": [
              "0.8888888888888888"
            ]
          },
          "metadata": {},
          "execution_count": 267
        }
      ]
    },
    {
      "cell_type": "code",
      "source": [
        "jaro.jaro_winkler_metric('acco', 'account')"
      ],
      "metadata": {
        "colab": {
          "base_uri": "https://localhost:8080/",
          "height": 34
        },
        "id": "IGB5b-Rb03OP",
        "outputId": "df4bfae9-552f-42f1-ea19-67b22a4d7e7b"
      },
      "execution_count": null,
      "outputs": [
        {
          "output_type": "display_data",
          "data": {
            "text/plain": [
              "<IPython.core.display.HTML object>"
            ],
            "text/html": [
              "\n",
              "  <style>\n",
              "    pre {\n",
              "        white-space: pre-wrap;\n",
              "    }\n",
              "  </style>\n",
              "  "
            ]
          },
          "metadata": {}
        },
        {
          "output_type": "execute_result",
          "data": {
            "text/plain": [
              "0.9142857142857143"
            ]
          },
          "metadata": {},
          "execution_count": 269
        }
      ]
    },
    {
      "cell_type": "code",
      "source": [
        "def doPredictions(sentence):\n",
        "  end_word = None\n",
        "  incomplete = False\n",
        "  if sentence[-1] != \" \":\n",
        "    end_word = sentence.split()[-1]\n",
        "    incomplete = True\n",
        "    sentence = \" \".join(sentence.split()[:-1])\n",
        "\n",
        "  choices = {word[1] for word in getWordChoices(sentence)}\n",
        "  predictions = []\n",
        "\n",
        "  V = len(vocab)\n",
        "  num_words = sum(vocab.values())\n",
        "\n",
        "  if incomplete:\n",
        "    choices = set(choices.union(vocab.keys()))\n",
        "\n",
        "  for word in choices:\n",
        "    key = sentence + word\n",
        "    quad_token = tuple(key[-4:])\n",
        "\n",
        "    prob = (\n",
        "        (quadgram_counts[quad_token] + 1)/ (trigram_counts[quad_token[-3:]] + V) + \n",
        "        (trigram_counts[quad_token[-3:]] + 1)/ (bigram_counts[quad_token[-2]] + V) +\n",
        "        (bigram_counts[quad_token[-2:]] + 1)/ (vocab[word] + V) + \n",
        "        (vocab[word] + 1)/ (num_words + V)\n",
        "    )\n",
        "\n",
        "    if incomplete:\n",
        "      similarity = jaro.jaro_winkler_metric(end_word, word)\n",
        "      predictions.append([similarity, prob, word])\n",
        "    else:\n",
        "      predictions.append([prob, word])\n",
        "\n",
        "  predictions = sorted(predictions, reverse=True)\n",
        "  # print(predictions)\n",
        "  best_preds = [pred[-1] for pred in predictions[:4]]\n",
        "  return best_preds\n",
        "\n",
        "sentence = 'But ek institution me 3 account hi open kar sakte hai'\n",
        "print(doPredictions('But ek institution me 3 acc'))\n",
        "print(doPredictions('But ek institution me 3 acco'))\n",
        "print(doPredictions('But ek institution me 3 accou'))\n",
        "print(doPredictions('But ek institution me 3 account'))\n",
        "print(doPredictions('But ek institution me 3 account '))\n",
        "print(doPredictions('But ek institution me 3 account open'))"
      ],
      "metadata": {
        "colab": {
          "base_uri": "https://localhost:8080/",
          "height": 121
        },
        "id": "1K7Njw1k07QJ",
        "outputId": "74cf626e-df1e-493c-95f7-4ab4236c0b54"
      },
      "execution_count": null,
      "outputs": [
        {
          "output_type": "display_data",
          "data": {
            "text/plain": [
              "<IPython.core.display.HTML object>"
            ],
            "text/html": [
              "\n",
              "  <style>\n",
              "    pre {\n",
              "        white-space: pre-wrap;\n",
              "    }\n",
              "  </style>\n",
              "  "
            ]
          },
          "metadata": {}
        },
        {
          "output_type": "stream",
          "name": "stdout",
          "text": [
            "['ac', 'accha', 'acchi', 'accent']\n",
            "['accout', 'account', 'accounts', 'according']\n",
            "['accout', 'account', 'accounts', 'according']\n",
            "['account', 'accounts', 'accout', 'accent']\n",
            "['hai', 'ke', 'aur', 'se']\n",
            "['open', 'opener', 'pen', 'opening']\n"
          ]
        }
      ]
    },
    {
      "cell_type": "code",
      "source": [],
      "metadata": {
        "id": "yxMLelvr1UH8"
      },
      "execution_count": null,
      "outputs": []
    }
  ]
}